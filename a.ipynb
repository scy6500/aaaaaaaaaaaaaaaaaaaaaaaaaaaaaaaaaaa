{
 "cells": [
  {
   "cell_type": "markdown",
   "id": "671337e7",
   "metadata": {},
   "source": [
    "# Ainize Workspace 란?"
   ]
  },
  {
   "cell_type": "markdown",
   "id": "d880e9e6",
   "metadata": {},
   "source": [
    "Ainize Workspace는 클라우드 기반의 **무료(?)** 개발 환경 구축을 도와주는 서비스입니다.  \n",
    "Ainize Workspace 에서는 **무료(?)**로 원하는 개발 환경과 하드웨어 환경(고성능 GPU 등)을 구축 할 수 있습니다.  \n",
    "\n",
    "현재 Ainize Workspace에서 기본적으로 제공하는 환경은 터미널, 주피터 노트북, VSCode이며 앞서 설정한 개발 환경과 하드웨어 환경 위에서 작동됩니다.  \n",
    "<img src=\"./images/workspace_tool.JPG\" align='left'></img><br><br>"
   ]
  },
  {
   "cell_type": "markdown",
   "id": "2b72f51a",
   "metadata": {},
   "source": [
    "Ainize Workspace는 다음과 같은 장점이 있습니다.  \n",
    "- GPU 무료 사용(멤버쉽 가입시 최신 GPU 선택 가능)\n",
    "- 기본적으로 24시간 보장(멤버쉽 가입시 멤버쉽 기간동안 보장)\n",
    "- 공유시 워크스페이스 자체가 공유되어 여러개의 코드, 데이터, 개발 환경 등을 공유 가능"
   ]
  },
  {
   "cell_type": "markdown",
   "id": "2ce0091a",
   "metadata": {},
   "source": [
    "### Stop / Start \n",
    "\n",
    "- 사용하지 않는 workspace를 stop하여 머신에서 할당 해제할 수 있습니다.\n",
    "    - personal machine quota가 부족하다면 stop한 뒤 다른 workspace를 이용할 수 있습니다.\n",
    "- stop된 workspace를 다시 start하여 사용할 수 있습니다.\n",
    "    - 작업 기록이 삭제되지 않습니다.\n",
    "    - 이 때, machine이 부족하다면 waiting list에 등록됩니다.\n",
    "- preemptive machine의 경우 24시간이 지나면 자동으로 stop 됩니다.\n"
   ]
  },
  {
   "cell_type": "markdown",
   "id": "e1c212e0",
   "metadata": {},
   "source": [
    "### save & share (coming soon...)"
   ]
  },
  {
   "cell_type": "markdown",
   "id": "ec2f1165",
   "metadata": {},
   "source": [
    "## Ainize WorkSpace 시작하기"
   ]
  },
  {
   "cell_type": "markdown",
   "id": "f1f9a1f1",
   "metadata": {},
   "source": [
    "### 편집 모드 (edit mode)\n",
    "<img src=\"./images/edit_mode.png\" align='left'></img><br><br>\n",
    "- 커맨드 모드 + `Enter` 또는 `Control + M`(⌃+M)\n",
    "\n",
    "### 커맨드 모드 (command mode)\n",
    "<img src=\"./images/command_mode.png\" align='left'></img><br><br>\n",
    "- 편집 모드 + `ESC`"
   ]
  },
  {
   "cell_type": "markdown",
   "id": "51d0f544",
   "metadata": {},
   "source": [
    "### 버튼 및 단축키\n",
    "\n",
    "Ainize Workspace에서 주로 사용하는 기능들은 아래 그림과 같이 상단바에 버튼으로 구성되어있습니다.\n",
    "<img src=\"./images/all_buttons.png\" align=\"left\"></img><br><br><br>\n",
    "모든 버튼들의 기능들과 해당 버튼들의 단축키를 알아보겠습니다.\n",
    "\n",
    "#### Save Button\n",
    "<img src=\"./images/save_button.png\" align=\"left\"></img><br><br>\n",
    "해당 버튼은 **노트북 파일 저장 버튼**입니다. 단축키는 커맨드 모드에서는 `S` 또는 `ctrl/command + S`(⌘+S) 이고 편집 모드에서는 `ctrl/command + S`(⌘+S) 입니다."
   ]
  },
  {
   "cell_type": "markdown",
   "id": "80dbd00f",
   "metadata": {},
   "source": [
    "#### Incert Cell Below Button\n",
    "<img src=\"./images/add_cell_button.png\" align=\"left\"></img><br><br>\n",
    "해당 버튼은 **현재 위치한 셀 밑에 새로운 셀을 추가하는 버튼**입니다. 단축키는 커맨드 모드에서만 사용이 가능하고 `B`키를 이용해 추가할 수 있습니다.<br>\n",
    "또한, 현재 위치한 셀 위에 새로운 셀을 추가하려면, 커맨드 모드에서 `A`키를 이용하여 추가할 수 있습니다."
   ]
  },
  {
   "cell_type": "code",
   "execution_count": null,
   "id": "ecdedfa2",
   "metadata": {},
   "outputs": [],
   "source": [
    "#현재 셀 위와 아래에 새로운 셀을 추가해보세요."
   ]
  },
  {
   "cell_type": "markdown",
   "id": "06cd4578",
   "metadata": {},
   "source": [
    "#### Edit Buttons\n",
    "<img src=\"./images/edit_buttons.png\" align=\"left\"></img><br><br>\n",
    "해당 버튼들은 셀 편집을 도와주는 버튼들 입니다. 오른쪽부터 설명을 하면 현재 **셀 잘라내는 버튼**, **셀 복사 버튼**, **셀 붙여넣기 버튼**입니다.<br>\n",
    "각 단축키는 커맨드 모드에서 순서대로 `X`, `C`, `V`를 이용하여 실행할 수 있습니다."
   ]
  },
  {
   "cell_type": "code",
   "execution_count": null,
   "id": "938af90a",
   "metadata": {},
   "outputs": [],
   "source": [
    "# 셀 블럭 옆에 In [1]: 은 실행 번호를 의미합니다.\n",
    "# In [ ]: 이 있는 블럭들은 Code 타입의 셀입니다. 밑에서 설명합니다.\n",
    "# 현재 셀을 잘라내서 [1]번 셀 밑으로 붙여넣어 보세요."
   ]
  },
  {
   "cell_type": "code",
   "execution_count": 1,
   "id": "da5f4892",
   "metadata": {},
   "outputs": [],
   "source": [
    "# [1]"
   ]
  },
  {
   "cell_type": "code",
   "execution_count": null,
   "id": "a97dd65c",
   "metadata": {},
   "outputs": [],
   "source": [
    "# 현재 셀을 복사하여 아무 곳에 붙여넣어 보세요."
   ]
  },
  {
   "cell_type": "markdown",
   "id": "34ccbbc4",
   "metadata": {},
   "source": [
    "#### Move Buttons\n",
    "<img src=\"./images/cell_move_button.png\" align='left'></img><br><br>\n",
    "해당 버튼들은 셀 위치를 변경시키는 버튼들 입니다. 각각 **위로 옮기기 버튼**, **아래로 옮기기 버튼** 입니다.<br>\n",
    "각 버튼의 단축키는 없습니다.<br>"
   ]
  },
  {
   "cell_type": "code",
   "execution_count": null,
   "id": "f58d7511",
   "metadata": {},
   "outputs": [],
   "source": [
    "# 아래 셀들([2]~[5])을 오름차순으로 정렬해 보세요."
   ]
  },
  {
   "cell_type": "code",
   "execution_count": 3,
   "id": "cea8d74e",
   "metadata": {},
   "outputs": [],
   "source": [
    "# [3]"
   ]
  },
  {
   "cell_type": "code",
   "execution_count": 5,
   "id": "1a258cbb",
   "metadata": {},
   "outputs": [],
   "source": [
    "# [5]"
   ]
  },
  {
   "cell_type": "code",
   "execution_count": 4,
   "id": "cfb75031",
   "metadata": {},
   "outputs": [],
   "source": [
    "# [4]"
   ]
  },
  {
   "cell_type": "code",
   "execution_count": 2,
   "id": "32eddccc",
   "metadata": {},
   "outputs": [],
   "source": [
    "# [2]"
   ]
  },
  {
   "cell_type": "markdown",
   "id": "7a477b25",
   "metadata": {},
   "source": [
    "#### Excute Buttons\n",
    "<img src=\"./images/run_stop_reconnect_button.png\" align='left'></img><br><br>\n",
    "해당 버튼들은 셀을 실행, 중단 및 커널 재시작을 도와주는 버튼들 입니다.<br>각각 **실행 및 밑의 셀 추가 또는 선택 버튼**, **실행 중단 버튼**, **커널(노트북) 재시작 버튼**, **재시작 및 모든 셀 재실행 버튼** 입니다.<br>\n",
    "각 버튼의 단축키는 순서대로 `Shift + Enter`(⇧+↩) 또는 `Alt/Option + Enter`(⌥+↩), `I, I`, `0, 0` (Number Zero) 이고 **커널 재시작 및 전체 셀 재실행 버튼**은 단축키는 없습니다.<br>또한, 셀 추가 없이 단순히 현재 셀을 실행만 하고 싶으면 단축키는 `Ctrl/Control + Enter`(⌃+↩) 또는 `Ctrl/Command + Enter`(⌘+↩)입니다."
   ]
  },
  {
   "cell_type": "code",
   "execution_count": null,
   "id": "d0f2da05",
   "metadata": {},
   "outputs": [],
   "source": [
    "# 해당 셀을 실행해 보세요.\n",
    "print(\"Hello WorkSpace!!\")"
   ]
  },
  {
   "cell_type": "code",
   "execution_count": null,
   "id": "84de16af",
   "metadata": {},
   "outputs": [],
   "source": [
    "# 아래 코드는 2분동안 실행되는 셀입니다.\n",
    "# 해당 셀을 실행한 후 중지해 보세요.\n",
    "# 실행 중인 셀은 In [*]: 로 표시됩니다."
   ]
  },
  {
   "cell_type": "code",
   "execution_count": null,
   "id": "3a450e76",
   "metadata": {},
   "outputs": [],
   "source": [
    "import time\n",
    "\n",
    "\n",
    "print(\"Start!\")\n",
    "time.sleep(120)\n",
    "print(\"Finish!\")"
   ]
  },
  {
   "cell_type": "markdown",
   "id": "0ea04770",
   "metadata": {},
   "source": [
    "#### Cell Type List\n",
    "<img src=\"./images/cell_info_button.png\" align='left'></img><br><br>\n",
    "해당 버튼은 현재 셀의 타입을 지정해 줄 수 있습니다. 셀 타입으로는 `Code`, `Markdown`, `Raw NBConvert`, `Heading`가 있습니다.<br>\n",
    "- `Code` 타입은 파이썬 코드를 작성하여 실행 할 수 있는 코드 셀(블럭)입니다.<br>\n",
    "- `Markdown` 타입은 주로 노트북 파일을 설명 할 때 사용하는 셀입니다.<br>\n",
    "- `Raw NBConvert` 타입은 Raw한 노트북 셀(블럭)입니다.<br>\n",
    "- `Heading` 타입은 `Markdown`셀과 유사하며 바로 Header를 구성해주는 셀(블럭)입니다.<br>\n",
    "<img src=\"./images/cell_info_list.png\" align='left'></img><br><br><br><br>"
   ]
  },
  {
   "cell_type": "code",
   "execution_count": null,
   "id": "e16f997e",
   "metadata": {},
   "outputs": [],
   "source": [
    "# 해당 셀은 Code 타입의 셀입니다.\n",
    "## 현재 셀을 실행해 보세요.\n",
    "print(\"Code Type Cell!\")"
   ]
  },
  {
   "cell_type": "markdown",
   "id": "978b3896",
   "metadata": {},
   "source": [
    "# 현재 셀을 Markdown 타입의 셀입니다.\n",
    "## 현재 셀을 실행해 보세요.\n",
    "print(\"Markdown Type Cell!\")"
   ]
  },
  {
   "cell_type": "raw",
   "id": "614c4bb9",
   "metadata": {},
   "source": [
    "# 현재 셀을 Raw NBConvert 타입의 셀입니다.\n",
    "## 현재 셀을 실행해 보세요.\n",
    "print(\"Raw NBConvert Type Cell!\")"
   ]
  },
  {
   "cell_type": "markdown",
   "id": "69ddb8a6",
   "metadata": {},
   "source": [
    "현재 셀은 Markdown 타입의 셀입니다.\n",
    "현재 셀을 Heading 타입으로 변경한 후 실행해 보세요.\n",
    "\n",
    "\n",
    "print(\"Heading Type Cell!\")"
   ]
  },
  {
   "cell_type": "markdown",
   "id": "a53826fc",
   "metadata": {},
   "source": [
    "#### Notebook Command Palatte Button\n",
    "<img src=\"./images/command_button.png\" align='left'></img><br><br>\n",
    "해당 버튼은 현재 노트북에서 사용 가능한 기능들을 검색할 때, 사용하는 버튼입니다.<br>\n",
    "해당 버튼의 단축키는 `Ctrl/Command + Shift + P`(⌘+⇧+F), `Ctrl/Command + Shift + F`(⌘+⇧+P), 커맨드 모드에서 `P`를 이용해 사용할 수 있습니다.\n",
    "<br><br>\n",
    "또한, 단축키에 대해 더 자세히 알고 싶으면, 커맨드 모드에서 `H`버튼을 눌러 알아 볼 수 있습니다."
   ]
  },
  {
   "cell_type": "code",
   "execution_count": null,
   "id": "91af740e",
   "metadata": {},
   "outputs": [],
   "source": [
    "# 팔레트를 열어 상단 메뉴바를 없애보세요.\n",
    "# toggle menubar를 찾아서 클릭하면 됩니다.\n",
    "# 다시 메뉴바를 표시 해 보세요."
   ]
  },
  {
   "cell_type": "markdown",
   "id": "4142c0f3",
   "metadata": {},
   "source": [
    "### 유용한 커맨드 모드 단축키\n",
    "#### 셀 관련\n",
    "- 현재 셀 위에 셀 추가 : `A`\n",
    "- 현재 셀 밑에 셀 추가 : `B`\n",
    "- 현재 셀 삭제 : `D, D`\n",
    "- 삭제한 셀 복원하기 : `Z`\n",
    "- 현재 셀 잘라내기 : `X`\n",
    "- 현재 셀 복사 : `C`\n",
    "- 복사 한 셀 현재 셀 위에 붙여넣기 : `Shift + V`(⇧+V)\n",
    "- 복사 한 셀 현재 셀 밑에 붙여넣기 : `V`\n",
    "- 현재 셀 마크다운으로 변환 : `M`\n",
    "- 현재 셀 코드 블럭으로 변환 : `Y`\n",
    "- 현재 셀 줄 수 표시 : `L`\n",
    "\n",
    "\n",
    "#### 실행 관련\n",
    "- 현재 셀 실행 및 밑에 셀 선택(생성) : `Shift + Enter`(⇧+↩)\n",
    "- 현재 셀 실행 : `Ctrl/Control + Enter`(⌃+↩) 또는 `Ctrl/Command + Enter`(⌘+↩)\n",
    "- 실행 중인 셀 중지 : `I, I`\n"
   ]
  },
  {
   "cell_type": "markdown",
   "id": "31058a4d",
   "metadata": {},
   "source": [
    "## 데이터과학\n",
    "데이터 과학을 살펴보고 싶으신분들은 [데이터과학 살펴보기](./DataScience.ipynb)로 이동해주세요."
   ]
  },
  {
   "cell_type": "code",
   "execution_count": null,
   "id": "00cd5fe7",
   "metadata": {},
   "outputs": [],
   "source": []
  }
 ],
 "metadata": {
  "kernelspec": {
   "display_name": "Python 3 (ipykernel)",
   "language": "python",
   "name": "python3"
  },
  "language_info": {
   "codemirror_mode": {
    "name": "ipython",
    "version": 3
   },
   "file_extension": ".py",
   "mimetype": "text/x-python",
   "name": "python",
   "nbconvert_exporter": "python",
   "pygments_lexer": "ipython3",
   "version": "3.7.10"
  }
 },
 "nbformat": 4,
 "nbformat_minor": 5
}
